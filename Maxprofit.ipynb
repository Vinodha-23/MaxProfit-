{
  "nbformat": 4,
  "nbformat_minor": 0,
  "metadata": {
    "colab": {
      "provenance": [],
      "authorship_tag": "ABX9TyNn3iaTELUa4cmMydkyUuKe",
      "include_colab_link": true
    },
    "kernelspec": {
      "name": "python3",
      "display_name": "Python 3"
    },
    "language_info": {
      "name": "python"
    }
  },
  "cells": [
    {
      "cell_type": "markdown",
      "metadata": {
        "id": "view-in-github",
        "colab_type": "text"
      },
      "source": [
        "<a href=\"https://colab.research.google.com/github/Vinodha-23/MaxProfit-/blob/main/Maxprofit.ipynb\" target=\"_parent\"><img src=\"https://colab.research.google.com/assets/colab-badge.svg\" alt=\"Open In Colab\"/></a>"
      ]
    },
    {
      "cell_type": "code",
      "source": [
        "from collections import defaultdict\n",
        "\n",
        "def max_profit(n):\n",
        "    buildings = [\n",
        "        {\"name\": \"T\", \"time\": 5, \"earn_per_time\": 1500},\n",
        "        {\"name\": \"P\", \"time\": 4, \"earn_per_time\": 1000},\n",
        "        {\"name\": \"C\", \"time\": 10, \"earn_per_time\": 3000},\n",
        "    ]\n",
        "\n",
        "    dp = [0] * (n + 1)\n",
        "    prev = defaultdict(list)\n",
        "\n",
        "    for start_time in range(n + 1):\n",
        "        for b in buildings:\n",
        "            finish_time = start_time + b[\"time\"]\n",
        "            if finish_time <= n:\n",
        "                operational_periods = n - finish_time\n",
        "                additional_profit = operational_periods * b[\"earn_per_time\"]\n",
        "                new_profit = dp[start_time] + additional_profit\n",
        "                if new_profit > dp[finish_time]:\n",
        "                    dp[finish_time] = new_profit\n",
        "                    prev[finish_time] = [(start_time, b[\"name\"])]\n",
        "                elif new_profit == dp[finish_time]:\n",
        "                    prev[finish_time].append((start_time, b[\"name\"]))\n",
        "\n",
        "    max_profit_value = max(dp)\n",
        "    best_finish_times = [t for t, val in enumerate(dp) if val == max_profit_value]\n",
        "\n",
        "    def backtrack(time, counts):\n",
        "        if time == 0:\n",
        "            results.append(counts.copy())\n",
        "            return\n",
        "        for ptime, bname in prev[time]:\n",
        "            new_counts = counts.copy()\n",
        "            new_counts[bname] += 1\n",
        "            backtrack(ptime, new_counts)\n",
        "\n",
        "    results = []\n",
        "    for finish_time in best_finish_times:\n",
        "        backtrack(finish_time, {\"T\": 0, \"P\": 0, \"C\": 0})\n",
        "\n",
        "\n",
        "    unique_results = [dict(t) for t in {tuple(sorted(r.items())) for r in results}]\n",
        "\n",
        "    # Filter out solutions where total build time equals n (last building zero profit)\n",
        "    filtered_results = []\n",
        "    for res in unique_results:\n",
        "        total_time = res[\"T\"] * 5 + res[\"P\"] * 4 + res[\"C\"] * 10\n",
        "        if total_time < n:  # only keep solutions that finish before total time n\n",
        "            filtered_results.append(res)\n",
        "\n",
        "    print(f\"Maximum Profit: {max_profit_value}\")\n",
        "    print(\"Solutions:\")\n",
        "    for sol in filtered_results:\n",
        "        print(f\"T: {sol['T']} P: {sol['P']} C: {sol['C']}\")\n",
        "\n",
        "    return max_profit_value, filtered_results\n",
        "\n",
        "\n",
        "if __name__ == \"__main__\":\n",
        "    n = int(input(\"Enter the time unit :\"))\n",
        "    max_profit(n)"
      ],
      "metadata": {
        "colab": {
          "base_uri": "https://localhost:8080/"
        },
        "id": "dCmvy2WIy7G9",
        "outputId": "f2b0743f-ede4-4112-c4a6-ee00285d00be"
      },
      "execution_count": null,
      "outputs": [
        {
          "output_type": "stream",
          "name": "stdout",
          "text": [
            "Enter the time unit :7\n",
            "Maximum Profit: 3000\n",
            "Solutions:\n",
            "T: 0 P: 1 C: 0\n",
            "T: 1 P: 0 C: 0\n"
          ]
        }
      ]
    }
  ]
}